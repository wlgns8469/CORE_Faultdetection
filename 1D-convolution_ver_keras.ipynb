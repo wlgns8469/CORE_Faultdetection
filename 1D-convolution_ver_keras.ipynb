{
 "cells": [
  {
   "cell_type": "markdown",
   "id": "f50e5e29",
   "metadata": {},
   "source": [
    "# library import"
   ]
  },
  {
   "cell_type": "code",
   "execution_count": 1,
   "id": "7b591e99",
   "metadata": {},
   "outputs": [],
   "source": [
    "import os\n",
    "import pandas as pd\n",
    "from matplotlib import pyplot as plt\n",
    "import numpy as np"
   ]
  },
  {
   "cell_type": "code",
   "execution_count": 198,
   "id": "4b46b689",
   "metadata": {},
   "outputs": [],
   "source": [
    "from keras.models import Sequential\n",
    "from keras.layers import Dense, Flatten, GlobalMaxPooling1D\n",
    "from keras.layers.convolutional import Conv1D, MaxPooling1D\n",
    "from tensorflow.keras.callbacks import EarlyStopping, ModelCheckpoint\n",
    "from sklearn.model_selection import train_test_split"
   ]
  },
  {
   "cell_type": "markdown",
   "id": "07b1eceb",
   "metadata": {},
   "source": [
    "# Data Load"
   ]
  },
  {
   "cell_type": "code",
   "execution_count": 2,
   "id": "2c4bc531",
   "metadata": {},
   "outputs": [],
   "source": [
    "path_fault1_ex = 'C:/Users/baek/Desktop/NURO/data/fault1/external'\n",
    "path_fault1_in = 'C:/Users/baek/Desktop/NURO/data/fault1/internal'\n",
    "\n",
    "path_normal_ex = 'C:/Users/baek/Desktop/NURO/data/normal/external'\n",
    "path_normal_in = 'C:/Users/baek/Desktop/NURO/data/normal/internal'"
   ]
  },
  {
   "cell_type": "code",
   "execution_count": 3,
   "id": "aa97c797",
   "metadata": {},
   "outputs": [],
   "source": [
    "dat_f1 = [[] for i in range(0,2)]\n",
    "dat_f2 = [[] for i in range(0,2)]\n",
    "dat_n = []"
   ]
  },
  {
   "cell_type": "code",
   "execution_count": 4,
   "id": "4de5c000",
   "metadata": {},
   "outputs": [],
   "source": [
    "temp =pd.read_csv(path_fault1_ex + '/'+ os.listdir(path_fault1_ex)[0], sep = '\\t' )\n",
    "dat_f1[0].append(temp)\n",
    "temp =pd.read_csv(path_fault1_ex + '/'+os.listdir(path_fault1_ex)[1], sep = '\\t' )\n",
    "dat_f1[0].append(temp)\n",
    "temp =pd.read_csv(path_fault1_ex + '/'+os.listdir(path_fault1_ex)[2], sep = '\\t' )\n",
    "dat_f1[0].append(temp)\n",
    "temp =pd.read_csv(path_fault1_ex + '/'+os.listdir(path_fault1_ex)[3], sep = '\\t' )\n",
    "dat_f1[0].append(temp)\n",
    "\n",
    "\n",
    "temp =pd.read_csv(path_fault1_in + '/'+os.listdir(path_fault1_in)[0], sep = ',' , low_memory=False)\n",
    "dat_f1[1].append(temp)\n",
    "temp =pd.read_csv(path_fault1_in + '/'+os.listdir(path_fault1_in)[1], sep = ',' , low_memory=False)\n",
    "dat_f1[1].append(temp)\n",
    "temp =pd.read_csv(path_fault1_in + '/'+os.listdir(path_fault1_in)[2], sep = ',' , low_memory=False)\n",
    "dat_f1[1].append(temp)\n",
    "temp =pd.read_csv(path_fault1_in + '/'+os.listdir(path_fault1_in)[3], sep = ',' , low_memory=False)\n",
    "dat_f1[1].append(temp)\n",
    "\n",
    "temp =pd.read_csv(path_normal_ex + '/'+os.listdir(path_normal_ex)[0], sep = '\\t' )\n",
    "dat_n.append(temp)\n",
    "temp =pd.read_csv(path_normal_ex + '/'+os.listdir(path_normal_ex)[1], sep = '\\t' )\n",
    "dat_n.append(temp)\n",
    "temp =pd.read_csv(path_normal_ex + '/'+os.listdir(path_normal_ex)[2], sep = '\\t' )\n",
    "dat_n.append(temp)\n",
    "temp =pd.read_csv(path_normal_ex + '/'+os.listdir(path_normal_ex)[3], sep = '\\t' )\n",
    "dat_n.append(temp)"
   ]
  },
  {
   "cell_type": "code",
   "execution_count": 5,
   "id": "52afcd44",
   "metadata": {},
   "outputs": [],
   "source": [
    "v1_n = dat_f1[1][0].loc[dat_f1[1][0]['CoreSN'] == 'core0'+str(1),:].reset_index().drop(labels = 'index', axis=1)\n",
    "v1_m = dat_f1[1][0].loc[dat_f1[1][0]['CoreSN'] == 'core0'+str(2),:].reset_index().drop(labels = 'index', axis=1)\n",
    "\n",
    "v15_n = dat_f1[1][1].loc[dat_f1[1][1]['CoreSN'] == 'core0'+str(1),:].reset_index().drop(labels = 'index', axis=1)\n",
    "v15_m = dat_f1[1][1].loc[dat_f1[1][1]['CoreSN'] == 'core0'+str(2),:].reset_index().drop(labels = 'index', axis=1)\n",
    "\n",
    "v2_n = dat_f1[1][2].loc[dat_f1[1][2]['CoreSN'] == 'core0'+str(1),:].reset_index().drop(labels = 'index', axis=1)\n",
    "v2_m = dat_f1[1][2].loc[dat_f1[1][2]['CoreSN'] == 'core0'+str(2),:].reset_index().drop(labels = 'index', axis=1)\n",
    "\n",
    "v25_n = dat_f1[1][3].loc[dat_f1[1][3]['CoreSN'] == 'core0'+str(1),:].reset_index().drop(labels = 'index', axis=1)\n",
    "v25_m = dat_f1[1][3].loc[dat_f1[1][3]['CoreSN'] == 'core0'+str(2),:].reset_index().drop(labels = 'index', axis=1)\n"
   ]
  },
  {
   "cell_type": "code",
   "execution_count": 214,
   "id": "0ba1c495",
   "metadata": {},
   "outputs": [],
   "source": [
    "path_fault1_in = 'C:/Users/baek/Desktop/NURO/data/fault1/internal'\n",
    "temp18 =pd.read_csv(path_fault1_in + '/'+'2022-06-06_16h02m_output_1.8.csv', sep = ',' , low_memory=False)\n",
    "\n",
    "v18_n = temp18.loc[temp18['CoreSN'] == 'core0'+str(1),:].reset_index().drop(labels = 'index', axis=1)\n",
    "v18_m =temp18.loc[temp18['CoreSN'] == 'core0'+str(2),:].reset_index().drop(labels = 'index', axis=1)\n",
    "\n",
    "data_n18 = []\n",
    "data_m18 = []\n",
    "\n",
    "for j in range(len(v18_n)//300):\n",
    "    data_n18.append(v18_n.loc[300*j:300*(j+1),\"ActualTorque\"])\n",
    "for j in range(len(v18_m)//300):\n",
    "    data_m18.append(v18_m.loc[300*j:300*(j+1),\"ActualTorque\"])\n",
    "\n",
    "label_n18 = [0 for i in range(len(data_n18))]\n",
    "label_m18 = [1 for i in range(len(data_m18))]\n",
    "\n",
    "data_n18.extend(data_m18)\n",
    "label_n18.extend(label_m18)\n",
    "\n",
    "X_train18, X_test18, y_train18, y_test18 = train_test_split(data_n18,label_n18,test_size=0.01, random_state=42)\n",
    "\n",
    "X_train18 = np.array(X_train18)\n",
    "y_train18 = np.array(y_train18)\n",
    "X_train18 = X_train18.reshape(443,301,1)"
   ]
  },
  {
   "cell_type": "code",
   "execution_count": 94,
   "id": "4f53e2db",
   "metadata": {},
   "outputs": [],
   "source": [
    "v_n = []\n",
    "v_m = []"
   ]
  },
  {
   "cell_type": "code",
   "execution_count": 95,
   "id": "9c89242d",
   "metadata": {},
   "outputs": [],
   "source": [
    "v_n.append(v1_n)\n",
    "v_n.append(v15_n)\n",
    "v_n.append(v2_n)\n",
    "v_n.append(v25_n)\n",
    "\n",
    "v_m.append(v1_m)\n",
    "v_m.append(v15_m)\n",
    "v_m.append(v2_m)\n",
    "v_m.append(v25_m)"
   ]
  },
  {
   "cell_type": "code",
   "execution_count": 146,
   "id": "c89ec70b",
   "metadata": {},
   "outputs": [],
   "source": [
    "data_n = []\n",
    "data_m = []\n",
    "\n",
    "for i in range(0,4):\n",
    "    for j in range(len(v_n[i])//300):\n",
    "        data_n.append(v_n[i].loc[300*j:300*(j+1),\"ActualTorque\"])\n",
    "\n",
    "for i in range(0,4):\n",
    "    for j in range(len(v_m[i])//300):\n",
    "        data_m.append(v_m[i].loc[300*j:300*(j+1),\"ActualTorque\"])\n",
    "    \n",
    "label_n = [0 for i in range(len(data_n))]\n",
    "label_m = [1 for i in range(len(data_m))]\n",
    "\n",
    "data_n.extend(data_m)\n",
    "label_n.extend(label_m)"
   ]
  },
  {
   "cell_type": "code",
   "execution_count": 150,
   "id": "427f58fe",
   "metadata": {},
   "outputs": [],
   "source": [
    "X_train, X_test, y_train, y_test = train_test_split(data_n,label_n,test_size=0.2, random_state=42)\n",
    "\n",
    "for i in range(len(X_train)):\n",
    "    X_train[i] = np.array(X_train[i])\n",
    "    \n",
    "for i in range(len(X_test)):\n",
    "    X_test[i] = np.array(X_test[i])\n",
    "    \n",
    "X_test = np.array(X_test)\n",
    "X_train = np.array(X_train)\n",
    "y_test = np.array(y_test)\n",
    "y_train = np.array(y_train)\n",
    "\n",
    "X_test = X_test.reshape(289,301,1)\n",
    "X_train = X_train.reshape(1153,301,1)\n"
   ]
  },
  {
   "cell_type": "markdown",
   "id": "b815439a",
   "metadata": {},
   "source": [
    "# Conv 1D Model "
   ]
  },
  {
   "cell_type": "code",
   "execution_count": null,
   "id": "261fba49",
   "metadata": {},
   "outputs": [],
   "source": [
    "model =  Sequential()\n",
    "model.add(Conv1D(filters = 32, kernel_size = 3, padding='valid', activation = 'relu', input_shape =(301,1)))\n",
    "model.add(Conv1D(32, 3, padding='valid', activation='relu'))\n",
    "model.add(GlobalMaxPooling1D())\n",
    "model.add(Conv1D(32, 3, padding='valid', activation='relu'))\n",
    "model.add(GlobalMaxPooling1D())\n",
    "model.add(Conv1D(16, 3, padding='valid', activation='relu'))\n",
    "model.add(GlobalMaxPooling1D())\n",
    "model.add(Flatten())\n",
    "model.add(Dense(50, activation = 'relu'))\n",
    "model.add(Dense(1, activation='sigmoid'))\n",
    "model.compile(optimizer = 'adam', loss=  'BinaryCrossentropy', metrics = ['acc'])"
   ]
  },
  {
   "cell_type": "code",
   "execution_count": 204,
   "id": "84dd83d2",
   "metadata": {},
   "outputs": [],
   "source": [
    "model =  Sequential()\n",
    "model.add(Conv1D(filters = 32, kernel_size = 2, activation = 'relu', input_shape =(301,1)))\n",
    "model.add(Conv1D(32, 3, padding='valid', activation='relu'))\n",
    "model.add(GlobalMaxPooling1D())\n",
    "model.add(Flatten())\n",
    "model.add(Dense(50, activation = 'relu'))\n",
    "model.add(Dense(1, activation = 'sigmoid'))\n",
    "\n",
    "model.compile(optimizer = 'adam', loss=  'BinaryCrossentropy', metrics = ['acc'])"
   ]
  },
  {
   "cell_type": "code",
   "execution_count": 205,
   "id": "4ac9ade2",
   "metadata": {
    "scrolled": true
   },
   "outputs": [
    {
     "name": "stdout",
     "output_type": "stream",
     "text": [
      "Model: \"sequential_11\"\n",
      "_________________________________________________________________\n",
      " Layer (type)                Output Shape              Param #   \n",
      "=================================================================\n",
      " conv1d_16 (Conv1D)          (None, 300, 32)           96        \n",
      "                                                                 \n",
      " conv1d_17 (Conv1D)          (None, 298, 32)           3104      \n",
      "                                                                 \n",
      " global_max_pooling1d_3 (Glo  (None, 32)               0         \n",
      " balMaxPooling1D)                                                \n",
      "                                                                 \n",
      " flatten_7 (Flatten)         (None, 32)                0         \n",
      "                                                                 \n",
      " dense_13 (Dense)            (None, 50)                1650      \n",
      "                                                                 \n",
      " dense_14 (Dense)            (None, 1)                 51        \n",
      "                                                                 \n",
      "=================================================================\n",
      "Total params: 4,901\n",
      "Trainable params: 4,901\n",
      "Non-trainable params: 0\n",
      "_________________________________________________________________\n"
     ]
    }
   ],
   "source": [
    "model.summary()"
   ]
  },
  {
   "cell_type": "markdown",
   "id": "50cccd58",
   "metadata": {},
   "source": [
    "# Training"
   ]
  },
  {
   "cell_type": "code",
   "execution_count": 206,
   "id": "12260250",
   "metadata": {
    "scrolled": true
   },
   "outputs": [
    {
     "name": "stdout",
     "output_type": "stream",
     "text": [
      "Epoch 1/100\n",
      "37/37 [==============================] - 1s 10ms/step - loss: 0.7062 - acc: 0.5620 - val_loss: 0.6635 - val_acc: 0.4948\n",
      "Epoch 2/100\n",
      "37/37 [==============================] - 0s 6ms/step - loss: 0.6122 - acc: 0.7511 - val_loss: 0.5936 - val_acc: 0.5363\n",
      "Epoch 3/100\n",
      "37/37 [==============================] - 0s 7ms/step - loss: 0.5303 - acc: 0.7944 - val_loss: 0.4886 - val_acc: 0.7093\n",
      "Epoch 4/100\n",
      "37/37 [==============================] - 0s 6ms/step - loss: 0.4472 - acc: 0.8196 - val_loss: 0.3181 - val_acc: 0.9481\n",
      "Epoch 5/100\n",
      "37/37 [==============================] - 0s 7ms/step - loss: 0.3330 - acc: 0.8959 - val_loss: 0.2489 - val_acc: 0.9446\n",
      "Epoch 6/100\n",
      "37/37 [==============================] - 0s 7ms/step - loss: 0.2581 - acc: 0.9254 - val_loss: 0.1864 - val_acc: 0.9654\n",
      "Epoch 7/100\n",
      "37/37 [==============================] - 0s 6ms/step - loss: 0.2088 - acc: 0.9445 - val_loss: 0.1633 - val_acc: 0.9689\n",
      "Epoch 8/100\n",
      "37/37 [==============================] - 0s 7ms/step - loss: 0.2014 - acc: 0.9367 - val_loss: 0.1402 - val_acc: 0.9550\n",
      "Epoch 9/100\n",
      "37/37 [==============================] - 0s 7ms/step - loss: 0.1826 - acc: 0.9402 - val_loss: 0.1098 - val_acc: 0.9758\n",
      "Epoch 10/100\n",
      "37/37 [==============================] - 0s 6ms/step - loss: 0.1366 - acc: 0.9662 - val_loss: 0.0987 - val_acc: 0.9758\n",
      "Epoch 11/100\n",
      "37/37 [==============================] - 0s 6ms/step - loss: 0.1251 - acc: 0.9696 - val_loss: 0.1090 - val_acc: 0.9654\n",
      "Epoch 12/100\n",
      "37/37 [==============================] - 0s 6ms/step - loss: 0.1482 - acc: 0.9523 - val_loss: 0.1040 - val_acc: 0.9689\n",
      "Epoch 13/100\n",
      "37/37 [==============================] - 0s 6ms/step - loss: 0.1060 - acc: 0.9748 - val_loss: 0.0869 - val_acc: 0.9723\n",
      "Epoch 14/100\n",
      "37/37 [==============================] - 0s 6ms/step - loss: 0.0965 - acc: 0.9748 - val_loss: 0.0841 - val_acc: 0.9723\n",
      "Epoch 15/100\n",
      "37/37 [==============================] - 0s 6ms/step - loss: 0.0905 - acc: 0.9757 - val_loss: 0.0805 - val_acc: 0.9689\n",
      "Epoch 16/100\n",
      "37/37 [==============================] - 0s 6ms/step - loss: 0.0842 - acc: 0.9775 - val_loss: 0.0906 - val_acc: 0.9619\n",
      "Epoch 17/100\n",
      "37/37 [==============================] - 0s 6ms/step - loss: 0.0834 - acc: 0.9775 - val_loss: 0.0743 - val_acc: 0.9723\n",
      "Epoch 18/100\n",
      "37/37 [==============================] - 0s 6ms/step - loss: 0.0846 - acc: 0.9783 - val_loss: 0.0716 - val_acc: 0.9723\n",
      "Epoch 19/100\n",
      "37/37 [==============================] - 0s 6ms/step - loss: 0.0726 - acc: 0.9827 - val_loss: 0.0737 - val_acc: 0.9723\n",
      "Epoch 20/100\n",
      "37/37 [==============================] - 0s 6ms/step - loss: 0.0764 - acc: 0.9809 - val_loss: 0.0835 - val_acc: 0.9654\n",
      "Epoch 21/100\n",
      "37/37 [==============================] - 0s 6ms/step - loss: 0.0767 - acc: 0.9740 - val_loss: 0.0852 - val_acc: 0.9689\n",
      "Epoch 22/100\n",
      "37/37 [==============================] - 0s 6ms/step - loss: 0.0687 - acc: 0.9827 - val_loss: 0.0792 - val_acc: 0.9689\n",
      "Epoch 23/100\n",
      "37/37 [==============================] - 0s 6ms/step - loss: 0.0952 - acc: 0.9688 - val_loss: 0.0675 - val_acc: 0.9654\n",
      "Epoch 24/100\n",
      "37/37 [==============================] - 0s 6ms/step - loss: 0.0651 - acc: 0.9792 - val_loss: 0.0643 - val_acc: 0.9723\n",
      "Epoch 25/100\n",
      "37/37 [==============================] - 0s 6ms/step - loss: 0.0613 - acc: 0.9844 - val_loss: 0.0629 - val_acc: 0.9689\n",
      "Epoch 26/100\n",
      "37/37 [==============================] - 0s 6ms/step - loss: 0.0642 - acc: 0.9835 - val_loss: 0.0741 - val_acc: 0.9689\n",
      "Epoch 27/100\n",
      "37/37 [==============================] - 0s 6ms/step - loss: 0.0707 - acc: 0.9740 - val_loss: 0.0686 - val_acc: 0.9654\n",
      "Epoch 28/100\n",
      "37/37 [==============================] - 0s 6ms/step - loss: 0.0631 - acc: 0.9801 - val_loss: 0.0609 - val_acc: 0.9689\n",
      "Epoch 29/100\n",
      "37/37 [==============================] - 0s 6ms/step - loss: 0.0718 - acc: 0.9766 - val_loss: 0.0614 - val_acc: 0.9689\n",
      "Epoch 30/100\n",
      "37/37 [==============================] - 0s 6ms/step - loss: 0.0583 - acc: 0.9827 - val_loss: 0.0572 - val_acc: 0.9723\n",
      "Epoch 31/100\n",
      "37/37 [==============================] - 0s 6ms/step - loss: 0.0508 - acc: 0.9853 - val_loss: 0.0624 - val_acc: 0.9723\n",
      "Epoch 32/100\n",
      "37/37 [==============================] - 0s 6ms/step - loss: 0.0493 - acc: 0.9861 - val_loss: 0.0624 - val_acc: 0.9723\n",
      "Epoch 33/100\n",
      "37/37 [==============================] - 0s 6ms/step - loss: 0.0482 - acc: 0.9870 - val_loss: 0.0638 - val_acc: 0.9654\n",
      "Epoch 34/100\n",
      "37/37 [==============================] - 0s 6ms/step - loss: 0.0523 - acc: 0.9853 - val_loss: 0.0566 - val_acc: 0.9723\n",
      "Epoch 35/100\n",
      "37/37 [==============================] - 0s 6ms/step - loss: 0.0543 - acc: 0.9827 - val_loss: 0.0558 - val_acc: 0.9723\n",
      "Epoch 36/100\n",
      "37/37 [==============================] - 0s 6ms/step - loss: 0.0536 - acc: 0.9818 - val_loss: 0.0555 - val_acc: 0.9723\n",
      "Epoch 37/100\n",
      "37/37 [==============================] - 0s 6ms/step - loss: 0.0549 - acc: 0.9827 - val_loss: 0.0551 - val_acc: 0.9723\n",
      "Epoch 38/100\n",
      "37/37 [==============================] - 0s 6ms/step - loss: 0.0501 - acc: 0.9835 - val_loss: 0.0570 - val_acc: 0.9723\n",
      "Epoch 39/100\n",
      "37/37 [==============================] - 0s 6ms/step - loss: 0.0664 - acc: 0.9757 - val_loss: 0.0466 - val_acc: 0.9758\n",
      "Epoch 40/100\n",
      "37/37 [==============================] - 0s 6ms/step - loss: 0.0405 - acc: 0.9870 - val_loss: 0.0497 - val_acc: 0.9758\n",
      "Epoch 41/100\n",
      "37/37 [==============================] - 0s 6ms/step - loss: 0.0509 - acc: 0.9801 - val_loss: 0.1359 - val_acc: 0.9446\n",
      "Epoch 42/100\n",
      "37/37 [==============================] - 0s 6ms/step - loss: 0.0582 - acc: 0.9766 - val_loss: 0.0957 - val_acc: 0.9654\n",
      "Epoch 43/100\n",
      "37/37 [==============================] - 0s 6ms/step - loss: 0.0848 - acc: 0.9679 - val_loss: 0.0450 - val_acc: 0.9792\n",
      "Epoch 44/100\n",
      "37/37 [==============================] - 0s 6ms/step - loss: 0.0399 - acc: 0.9879 - val_loss: 0.0472 - val_acc: 0.9792\n",
      "Epoch 45/100\n",
      "37/37 [==============================] - 0s 6ms/step - loss: 0.0419 - acc: 0.9861 - val_loss: 0.0457 - val_acc: 0.9792\n",
      "Epoch 46/100\n",
      "37/37 [==============================] - 0s 6ms/step - loss: 0.0426 - acc: 0.9853 - val_loss: 0.0455 - val_acc: 0.9723\n",
      "Epoch 47/100\n",
      "37/37 [==============================] - 0s 6ms/step - loss: 0.0385 - acc: 0.9887 - val_loss: 0.0390 - val_acc: 0.9792\n",
      "Epoch 48/100\n",
      "37/37 [==============================] - 0s 6ms/step - loss: 0.0400 - acc: 0.9853 - val_loss: 0.0452 - val_acc: 0.9827\n",
      "Epoch 49/100\n",
      "37/37 [==============================] - 0s 6ms/step - loss: 0.0447 - acc: 0.9861 - val_loss: 0.0810 - val_acc: 0.9654\n",
      "Epoch 50/100\n",
      "37/37 [==============================] - 0s 6ms/step - loss: 0.0381 - acc: 0.9844 - val_loss: 0.0516 - val_acc: 0.9758\n",
      "Epoch 51/100\n",
      "37/37 [==============================] - 0s 6ms/step - loss: 0.0350 - acc: 0.9887 - val_loss: 0.0391 - val_acc: 0.9862\n",
      "Epoch 52/100\n",
      "37/37 [==============================] - 0s 6ms/step - loss: 0.0317 - acc: 0.9922 - val_loss: 0.0421 - val_acc: 0.9792\n",
      "Epoch 53/100\n",
      "37/37 [==============================] - 0s 6ms/step - loss: 0.0343 - acc: 0.9887 - val_loss: 0.0383 - val_acc: 0.9792\n",
      "Epoch 54/100\n",
      "37/37 [==============================] - 0s 6ms/step - loss: 0.0304 - acc: 0.9922 - val_loss: 0.0390 - val_acc: 0.9792\n",
      "Epoch 55/100\n",
      "37/37 [==============================] - 0s 6ms/step - loss: 0.0302 - acc: 0.9931 - val_loss: 0.0592 - val_acc: 0.9723\n",
      "Epoch 56/100\n",
      "37/37 [==============================] - 0s 6ms/step - loss: 0.0351 - acc: 0.9879 - val_loss: 0.0405 - val_acc: 0.9792\n",
      "Epoch 57/100\n",
      "37/37 [==============================] - 0s 6ms/step - loss: 0.0517 - acc: 0.9748 - val_loss: 0.0383 - val_acc: 0.9792\n",
      "Epoch 58/100\n",
      "37/37 [==============================] - 0s 6ms/step - loss: 0.0389 - acc: 0.9896 - val_loss: 0.0605 - val_acc: 0.9758\n",
      "Epoch 59/100\n",
      "37/37 [==============================] - 0s 6ms/step - loss: 0.0351 - acc: 0.9905 - val_loss: 0.0491 - val_acc: 0.9792\n",
      "Epoch 60/100\n",
      "37/37 [==============================] - 0s 6ms/step - loss: 0.0276 - acc: 0.9896 - val_loss: 0.0361 - val_acc: 0.9827\n",
      "Epoch 61/100\n",
      "37/37 [==============================] - 0s 6ms/step - loss: 0.0261 - acc: 0.9913 - val_loss: 0.0330 - val_acc: 0.9827\n",
      "Epoch 62/100\n",
      "37/37 [==============================] - 0s 6ms/step - loss: 0.0301 - acc: 0.9887 - val_loss: 0.0325 - val_acc: 0.9827\n",
      "Epoch 63/100\n"
     ]
    },
    {
     "name": "stdout",
     "output_type": "stream",
     "text": [
      "37/37 [==============================] - 0s 6ms/step - loss: 0.0264 - acc: 0.9896 - val_loss: 0.0334 - val_acc: 0.9827\n",
      "Epoch 64/100\n",
      "37/37 [==============================] - 0s 6ms/step - loss: 0.0290 - acc: 0.9905 - val_loss: 0.0340 - val_acc: 0.9827\n",
      "Epoch 65/100\n",
      "37/37 [==============================] - 0s 7ms/step - loss: 0.0283 - acc: 0.9913 - val_loss: 0.0355 - val_acc: 0.9827\n",
      "Epoch 66/100\n",
      "37/37 [==============================] - 0s 7ms/step - loss: 0.0290 - acc: 0.9905 - val_loss: 0.0352 - val_acc: 0.9827\n",
      "Epoch 67/100\n",
      "37/37 [==============================] - 0s 6ms/step - loss: 0.0286 - acc: 0.9922 - val_loss: 0.0555 - val_acc: 0.9758\n",
      "Epoch 68/100\n",
      "37/37 [==============================] - 0s 6ms/step - loss: 0.0362 - acc: 0.9870 - val_loss: 0.0736 - val_acc: 0.9723\n",
      "Epoch 69/100\n",
      "37/37 [==============================] - 0s 6ms/step - loss: 0.0392 - acc: 0.9853 - val_loss: 0.0619 - val_acc: 0.9689\n",
      "Epoch 70/100\n",
      "37/37 [==============================] - 0s 7ms/step - loss: 0.0347 - acc: 0.9861 - val_loss: 0.0527 - val_acc: 0.9792\n",
      "Epoch 71/100\n",
      "37/37 [==============================] - 0s 6ms/step - loss: 0.0264 - acc: 0.9939 - val_loss: 0.0334 - val_acc: 0.9827\n",
      "Epoch 72/100\n",
      "37/37 [==============================] - 0s 6ms/step - loss: 0.0248 - acc: 0.9913 - val_loss: 0.0472 - val_acc: 0.9758\n",
      "Epoch 73/100\n",
      "37/37 [==============================] - 0s 6ms/step - loss: 0.0268 - acc: 0.9913 - val_loss: 0.0371 - val_acc: 0.9862\n",
      "Epoch 74/100\n",
      "37/37 [==============================] - 0s 6ms/step - loss: 0.0221 - acc: 0.9931 - val_loss: 0.0377 - val_acc: 0.9862\n",
      "Epoch 75/100\n",
      "37/37 [==============================] - 0s 6ms/step - loss: 0.0242 - acc: 0.9913 - val_loss: 0.0452 - val_acc: 0.9792\n",
      "Epoch 76/100\n",
      "37/37 [==============================] - 0s 6ms/step - loss: 0.0292 - acc: 0.9905 - val_loss: 0.0581 - val_acc: 0.9654\n",
      "Epoch 77/100\n",
      "37/37 [==============================] - 0s 6ms/step - loss: 0.0271 - acc: 0.9887 - val_loss: 0.0333 - val_acc: 0.9827\n",
      "Epoch 78/100\n",
      "37/37 [==============================] - 0s 6ms/step - loss: 0.0273 - acc: 0.9896 - val_loss: 0.0384 - val_acc: 0.9827\n",
      "Epoch 79/100\n",
      "37/37 [==============================] - 0s 6ms/step - loss: 0.0236 - acc: 0.9931 - val_loss: 0.0374 - val_acc: 0.9827\n",
      "Epoch 80/100\n",
      "37/37 [==============================] - 0s 6ms/step - loss: 0.0265 - acc: 0.9887 - val_loss: 0.0400 - val_acc: 0.9862\n",
      "Epoch 81/100\n",
      "37/37 [==============================] - 0s 6ms/step - loss: 0.0220 - acc: 0.9931 - val_loss: 0.1027 - val_acc: 0.9654\n",
      "Epoch 82/100\n",
      "37/37 [==============================] - 0s 6ms/step - loss: 0.0219 - acc: 0.9905 - val_loss: 0.0529 - val_acc: 0.9654\n"
     ]
    }
   ],
   "source": [
    "history =  model.fit(X_train, y_train, epochs = 100,batch_size = 32, validation_data = ((X_test), y_test),callbacks=[EarlyStopping(monitor = 'val_loss', min_delta = 0, patience = 20, mode = 'auto')])"
   ]
  },
  {
   "cell_type": "markdown",
   "id": "f66f5a97",
   "metadata": {},
   "source": [
    "# Test for 1.8 rad/s "
   ]
  },
  {
   "cell_type": "code",
   "execution_count": 228,
   "id": "43ed30d7",
   "metadata": {},
   "outputs": [
    {
     "name": "stdout",
     "output_type": "stream",
     "text": [
      "14/14 [==============================] - 0s 2ms/step - loss: 0.3158 - acc: 0.8916\n",
      "Test accuracy:  0.8916478753089905\n"
     ]
    }
   ],
   "source": [
    "results = model.evaluate(X_train18,  y_train18)\n",
    "print('Test accuracy: ', results[1])"
   ]
  }
 ],
 "metadata": {
  "kernelspec": {
   "display_name": "Python 3 (ipykernel)",
   "language": "python",
   "name": "python3"
  },
  "language_info": {
   "codemirror_mode": {
    "name": "ipython",
    "version": 3
   },
   "file_extension": ".py",
   "mimetype": "text/x-python",
   "name": "python",
   "nbconvert_exporter": "python",
   "pygments_lexer": "ipython3",
   "version": "3.9.12"
  }
 },
 "nbformat": 4,
 "nbformat_minor": 5
}
