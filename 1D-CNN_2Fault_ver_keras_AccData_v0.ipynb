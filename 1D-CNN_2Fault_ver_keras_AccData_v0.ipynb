{
 "cells": [
  {
   "cell_type": "markdown",
   "id": "026b33e2",
   "metadata": {},
   "source": [
    "# Library Import"
   ]
  },
  {
   "cell_type": "code",
   "execution_count": 219,
   "id": "7f096d5a",
   "metadata": {},
   "outputs": [],
   "source": [
    "import os\n",
    "import pandas as pd\n",
    "from matplotlib import pyplot as plt\n",
    "import numpy as np"
   ]
  },
  {
   "cell_type": "code",
   "execution_count": 220,
   "id": "b8924a77",
   "metadata": {},
   "outputs": [],
   "source": [
    "from keras.models import Sequential\n",
    "from keras.layers import Dense, Flatten, GlobalMaxPooling1D\n",
    "from keras.layers.convolutional import Conv1D, MaxPooling1D\n",
    "from tensorflow.keras.callbacks import EarlyStopping, ModelCheckpoint\n",
    "from sklearn.model_selection import train_test_split\n",
    "from sklearn.preprocessing import StandardScaler, MinMaxScaler\n",
    "from keras.utils import np_utils"
   ]
  },
  {
   "cell_type": "markdown",
   "id": "6f995e35",
   "metadata": {},
   "source": [
    "# Data Load"
   ]
  },
  {
   "cell_type": "code",
   "execution_count": 221,
   "id": "522347fd",
   "metadata": {},
   "outputs": [],
   "source": [
    "path_fault2_ex = 'C:/Users/baek/Desktop/NURO/data_cycle/abnormal2/external'\n",
    "path_fault2_in = 'C:/Users/baek/Desktop/NURO/data_cycle/abnormal2/internal'\n",
    "\n",
    "path_fault1_ex = 'C:/Users/baek/Desktop/NURO/data_cycle/abnormal1/external'\n",
    "path_fault1_in = 'C:/Users/baek/Desktop/NURO/data_cycle/abnormal1/internal'\n",
    "\n",
    "path_normal_ex = 'C:/Users/baek/Desktop/NURO/data_cycle/normal/external'\n",
    "path_normal_in = 'C:/Users/baek/Desktop/NURO/data_cycle/normal/internal'"
   ]
  },
  {
   "cell_type": "code",
   "execution_count": 264,
   "id": "86e8a322",
   "metadata": {},
   "outputs": [],
   "source": [
    "dat_f1 = [[] for i in range(0,2)]\n",
    "dat_f2 = [[] for i in range(0,2)]\n",
    "dat_n = []"
   ]
  },
  {
   "cell_type": "code",
   "execution_count": 265,
   "id": "1de9f663",
   "metadata": {},
   "outputs": [],
   "source": [
    "for i in range(len(os.listdir(path_fault1_ex))):\n",
    "    temp =pd.read_csv(path_fault1_ex + '/'+ os.listdir(path_fault1_ex)[i], sep = '\\t' )\n",
    "    dat_f1[0].append(temp)\n",
    "    \n",
    "    \n",
    "for i in range(len(os.listdir(path_fault1_in))):\n",
    "    temp = pd.read_csv(path_fault1_in + '/'+os.listdir(path_fault1_in)[i], sep = ',' , low_memory=False)\n",
    "    dat_f1[1].append(temp)\n",
    "\n",
    "    \n",
    "for i in range(len(os.listdir(path_fault2_ex))):\n",
    "    temp =pd.read_csv(path_fault2_ex + '/'+ os.listdir(path_fault2_ex)[i], sep = '\\t' )\n",
    "    dat_f2[0].append(temp)\n",
    "    \n",
    "    \n",
    "for i in range(len(os.listdir(path_fault2_in))):\n",
    "    temp = pd.read_csv(path_fault2_in + '/'+os.listdir(path_fault2_in)[i], sep = ',' , low_memory=False)\n",
    "    dat_f2[1].append(temp)\n",
    "    \n",
    "    \n",
    "for i in range(len(os.listdir(path_normal_ex))):\n",
    "    temp =pd.read_csv(path_normal_ex + '/'+os.listdir(path_normal_ex)[i], sep = '\\t' )\n",
    "    dat_n.append(temp)"
   ]
  },
  {
   "cell_type": "code",
   "execution_count": 353,
   "id": "18b55e7e",
   "metadata": {},
   "outputs": [],
   "source": [
    "data_f1 = []\n",
    "for i in range(len(dat_f1[0])):\n",
    "    temp = dat_f1[0][i].loc[:,['ax(g)','ay(g)','az(g)']] - dat_f1[0][i].loc[:,['ax(g)','ay(g)','az(g)']].median()\n",
    "    temp = temp.loc[np.unique(np.around(np.array([i for i in range(len( dat_f1[1][i].loc[dat_f1[1][i]['CoreSN'] == 'core0'+str(2),:]))]) / len( dat_f1[1][i].loc[dat_f1[1][i]['CoreSN'] == 'core0'+str(2),:]) * len(temp)).astype('int')).tolist()].reset_index().drop(labels = ['index'], axis=1)\n",
    "    data_f1.append(temp)\n",
    "    \n",
    "data_f2 = []\n",
    "for i in range(len(dat_f2[0])):\n",
    "    temp = dat_f2[0][i].loc[:,['ax(g)','ay(g)','az(g)']] - dat_f2[0][i].loc[:,['ax(g)','ay(g)','az(g)']].median()\n",
    "    temp = temp.loc[np.unique(np.around(np.array([i for i in range(len(dat_f2[1][i].loc[dat_f2[1][i]['CoreSN'] == 'core0'+str(2),:]))]) / len(dat_f2[1][i].loc[dat_f2[1][i]['CoreSN'] == 'core0'+str(2),:]) * len(temp)).astype('int')).tolist()].reset_index().drop(labels = ['index'], axis=1)\n",
    "    data_f2.append(temp)\n",
    "    \n",
    "data_n = []\n",
    "for i in range(len(dat_n)):\n",
    "    temp = dat_n[i].loc[:,['ax(g)','ay(g)','az(g)']] - dat_n[i].loc[:,['ax(g)','ay(g)','az(g)']].median()\n",
    "    temp = temp.loc[np.unique(np.around(np.array([i for i in range(len( dat_f1[1][i].loc[dat_f1[1][i]['CoreSN'] == 'core0'+str(1),:]))]) / len( dat_f1[1][i].loc[dat_f1[1][i]['CoreSN'] == 'core0'+str(1),:]) * len(temp)).astype('int')).tolist()].reset_index().drop(labels = ['index'], axis=1)\n",
    "    data_n.append(temp)\n",
    "    \n",
    "##temp = temp.loc[np.unique(np.around(np.array([i for i in range(min_data_len)]) / min_data_len * len(temp)).astype('int')).tolist()].reset_index()"
   ]
  },
  {
   "cell_type": "code",
   "execution_count": 342,
   "id": "01728a58",
   "metadata": {},
   "outputs": [],
   "source": [
    "d_n = []\n",
    "d_f1 = []\n",
    "d_f2 = []\n",
    "\n",
    "\n",
    "\n",
    "for i in range(0,5):\n",
    "    scaler_ = MinMaxScaler()\n",
    "    scaler_.fit(data_n[i])\n",
    "    data_n[i] = scaler_.transform(data_n[i])\n",
    "    for j in range(len(data_n[i])//300):\n",
    "        d_n.append(data_n[i][300*j:300*(j+1),:])\n",
    "\n",
    "for i in range(0,5):\n",
    "    scaler_ = MinMaxScaler()\n",
    "    scaler_.fit(data_f1[i])\n",
    "    data_f1[i] = scaler_.transform(data_f1[i])\n",
    "    for j in range(len(data_f1[i])//300):\n",
    "        d_f1.append(data_f1[i][300*j:300*(j+1),:])\n",
    "        \n",
    "for i in range(0,5):\n",
    "    scaler_ = MinMaxScaler()\n",
    "    scaler_.fit(data_f2[i])\n",
    "    data_f2[i] = scaler_.transform(data_f2[i])\n",
    "    for j in range(len(data_f2[i])//300):\n",
    "        d_f2.append(data_f2[i][300*j:300*(j+1),:])\n"
   ]
  },
  {
   "cell_type": "code",
   "execution_count": 366,
   "id": "0807bc0f",
   "metadata": {},
   "outputs": [],
   "source": [
    "label_n = [0 for i in range(len(d_n))]\n",
    "label_f1 = [1 for i in range(len(d_f1))]\n",
    "label_f2 = [2 for i in range(len(d_f2))]\n"
   ]
  },
  {
   "cell_type": "code",
   "execution_count": 367,
   "id": "f6e7fb39",
   "metadata": {},
   "outputs": [],
   "source": [
    "d_n.extend(d_f1)\n",
    "label_n.extend(label_f1)\n",
    "\n",
    "d_n.extend(d_f2)\n",
    "label_n.extend(label_f2)"
   ]
  },
  {
   "cell_type": "code",
   "execution_count": 368,
   "id": "f427d5f7",
   "metadata": {},
   "outputs": [],
   "source": [
    "X_train, X_test, y_train, y_test = train_test_split(d_n,label_n,test_size=0.2, shuffle=True, stratify=label_n, random_state=42)\n"
   ]
  },
  {
   "cell_type": "code",
   "execution_count": 370,
   "id": "439ce4cf",
   "metadata": {},
   "outputs": [],
   "source": [
    "for i in range(len(X_train)):\n",
    "    X_train[i] = np.array(X_train[i])\n",
    "    \n",
    "for i in range(len(X_test)):\n",
    "    X_test[i] = np.array(X_test[i])\n",
    "    \n",
    "X_test = np.array(X_test)\n",
    "X_train = np.array(X_train)\n",
    "y_test = np.array(y_test)\n",
    "y_train = np.array(y_train)\n",
    "\n",
    "X_test = X_test.reshape(len(X_test),300,3,1)\n",
    "X_train = X_train.reshape(len(X_train),300,3,1)\n",
    "\n",
    "y_train_hot = np_utils.to_categorical(y_train, 3)\n",
    "y_test_hot= np_utils.to_categorical(y_test, 3)"
   ]
  },
  {
   "cell_type": "markdown",
   "id": "f346eb20",
   "metadata": {},
   "source": [
    "# Train & Validataion"
   ]
  },
  {
   "cell_type": "code",
   "execution_count": 373,
   "id": "f19c3e03",
   "metadata": {},
   "outputs": [],
   "source": [
    "model =  Sequential()\n",
    "model.add(Conv1D(filters = 32, kernel_size = 2, activation = 'relu', input_shape =(300,3)))\n",
    "model.add(MaxPooling1D())\n",
    "\n",
    "model.add(Conv1D(32, 3, padding='valid', activation='relu'))\n",
    "model.add(MaxPooling1D())\n",
    "\n",
    "model.add(Conv1D(64, 3, padding='valid', activation='relu'))\n",
    "model.add(MaxPooling1D())\n",
    "\n",
    "model.add(Conv1D(128, 3, padding='valid', activation='relu'))\n",
    "model.add(MaxPooling1D())\n",
    "\n",
    "model.add(Flatten())\n",
    "model.add(Dense(2176, activation = 'relu'))\n",
    "model.add(Dense(50, activation = 'relu'))\n",
    "model.add(Dense(3, activation = 'softmax'))\n",
    "\n",
    "model.compile(optimizer = 'adam', loss=  'categorical_crossentropy', metrics = ['acc'])"
   ]
  },
  {
   "cell_type": "code",
   "execution_count": 374,
   "id": "bffa70e8",
   "metadata": {
    "scrolled": true
   },
   "outputs": [
    {
     "name": "stdout",
     "output_type": "stream",
     "text": [
      "Epoch 1/100\n",
      "48/48 [==============================] - 3s 45ms/step - loss: 0.8930 - acc: 0.5674 - val_loss: 0.6137 - val_acc: 0.7995\n",
      "Epoch 2/100\n",
      "48/48 [==============================] - 2s 43ms/step - loss: 0.5536 - acc: 0.7948 - val_loss: 0.4649 - val_acc: 0.8333\n",
      "Epoch 3/100\n",
      "48/48 [==============================] - 2s 42ms/step - loss: 0.5212 - acc: 0.7928 - val_loss: 0.4088 - val_acc: 0.8359\n",
      "Epoch 4/100\n",
      "48/48 [==============================] - 2s 42ms/step - loss: 0.3667 - acc: 0.8534 - val_loss: 0.3954 - val_acc: 0.8307\n",
      "Epoch 5/100\n",
      "48/48 [==============================] - 2s 42ms/step - loss: 0.3488 - acc: 0.8632 - val_loss: 0.3607 - val_acc: 0.8516\n",
      "Epoch 6/100\n",
      "48/48 [==============================] - 2s 42ms/step - loss: 0.2749 - acc: 0.8912 - val_loss: 0.2533 - val_acc: 0.9089\n",
      "Epoch 7/100\n",
      "48/48 [==============================] - 2s 42ms/step - loss: 0.3318 - acc: 0.8834 - val_loss: 0.2471 - val_acc: 0.9010\n",
      "Epoch 8/100\n",
      "48/48 [==============================] - 2s 42ms/step - loss: 0.2677 - acc: 0.8925 - val_loss: 0.2324 - val_acc: 0.9193\n",
      "Epoch 9/100\n",
      "48/48 [==============================] - 2s 43ms/step - loss: 0.2058 - acc: 0.9251 - val_loss: 0.2287 - val_acc: 0.9219\n",
      "Epoch 10/100\n",
      "48/48 [==============================] - 2s 42ms/step - loss: 0.2344 - acc: 0.9121 - val_loss: 0.2530 - val_acc: 0.9115\n",
      "Epoch 11/100\n",
      "48/48 [==============================] - 2s 43ms/step - loss: 0.2138 - acc: 0.9036 - val_loss: 0.4556 - val_acc: 0.8151\n",
      "Epoch 12/100\n",
      "48/48 [==============================] - 2s 42ms/step - loss: 0.2361 - acc: 0.9101 - val_loss: 0.1527 - val_acc: 0.9297\n",
      "Epoch 13/100\n",
      "48/48 [==============================] - 2s 42ms/step - loss: 0.1710 - acc: 0.9290 - val_loss: 0.1410 - val_acc: 0.9557\n",
      "Epoch 14/100\n",
      "48/48 [==============================] - 2s 42ms/step - loss: 0.1378 - acc: 0.9479 - val_loss: 0.1157 - val_acc: 0.9531\n",
      "Epoch 15/100\n",
      "48/48 [==============================] - 2s 43ms/step - loss: 0.1614 - acc: 0.9329 - val_loss: 0.1634 - val_acc: 0.9271\n",
      "Epoch 16/100\n",
      "48/48 [==============================] - 2s 43ms/step - loss: 0.1879 - acc: 0.9225 - val_loss: 0.1322 - val_acc: 0.9609\n",
      "Epoch 17/100\n",
      "48/48 [==============================] - 2s 43ms/step - loss: 0.0851 - acc: 0.9674 - val_loss: 0.1074 - val_acc: 0.9635\n",
      "Epoch 18/100\n",
      "48/48 [==============================] - 2s 42ms/step - loss: 0.1308 - acc: 0.9557 - val_loss: 0.2822 - val_acc: 0.8906\n",
      "Epoch 19/100\n",
      "48/48 [==============================] - 2s 42ms/step - loss: 0.0786 - acc: 0.9726 - val_loss: 0.0983 - val_acc: 0.9635\n",
      "Epoch 20/100\n",
      "48/48 [==============================] - 2s 42ms/step - loss: 0.0708 - acc: 0.9746 - val_loss: 0.1115 - val_acc: 0.9635\n",
      "Epoch 21/100\n",
      "48/48 [==============================] - 2s 43ms/step - loss: 0.0543 - acc: 0.9792 - val_loss: 0.0854 - val_acc: 0.9661\n",
      "Epoch 22/100\n",
      "48/48 [==============================] - 2s 42ms/step - loss: 0.0321 - acc: 0.9935 - val_loss: 0.0502 - val_acc: 0.9792\n",
      "Epoch 23/100\n",
      "48/48 [==============================] - 2s 43ms/step - loss: 0.0225 - acc: 0.9935 - val_loss: 0.1359 - val_acc: 0.9583\n",
      "Epoch 24/100\n",
      "48/48 [==============================] - 2s 43ms/step - loss: 0.1095 - acc: 0.9629 - val_loss: 0.1813 - val_acc: 0.9219\n",
      "Epoch 25/100\n",
      "48/48 [==============================] - 2s 43ms/step - loss: 0.0809 - acc: 0.9694 - val_loss: 0.0804 - val_acc: 0.9740\n",
      "Epoch 26/100\n",
      "48/48 [==============================] - 2s 44ms/step - loss: 0.0286 - acc: 0.9889 - val_loss: 0.1286 - val_acc: 0.9583\n",
      "Epoch 27/100\n",
      "48/48 [==============================] - 2s 42ms/step - loss: 0.0151 - acc: 0.9935 - val_loss: 0.0527 - val_acc: 0.9818\n",
      "Epoch 28/100\n",
      "48/48 [==============================] - 2s 44ms/step - loss: 0.0030 - acc: 1.0000 - val_loss: 0.0557 - val_acc: 0.9844\n",
      "Epoch 29/100\n",
      "48/48 [==============================] - 2s 44ms/step - loss: 0.0014 - acc: 1.0000 - val_loss: 0.0618 - val_acc: 0.9818\n",
      "Epoch 30/100\n",
      "48/48 [==============================] - 2s 42ms/step - loss: 8.9878e-04 - acc: 1.0000 - val_loss: 0.0628 - val_acc: 0.9818\n",
      "Epoch 31/100\n",
      "48/48 [==============================] - 2s 43ms/step - loss: 7.0403e-04 - acc: 1.0000 - val_loss: 0.0627 - val_acc: 0.9818\n",
      "Epoch 32/100\n",
      "48/48 [==============================] - 2s 43ms/step - loss: 5.3577e-04 - acc: 1.0000 - val_loss: 0.0680 - val_acc: 0.9818\n",
      "Epoch 33/100\n",
      "48/48 [==============================] - 2s 43ms/step - loss: 4.4824e-04 - acc: 1.0000 - val_loss: 0.0670 - val_acc: 0.9818\n",
      "Epoch 34/100\n",
      "48/48 [==============================] - 2s 43ms/step - loss: 3.9341e-04 - acc: 1.0000 - val_loss: 0.0716 - val_acc: 0.9818\n",
      "Epoch 35/100\n",
      "48/48 [==============================] - 2s 42ms/step - loss: 3.3716e-04 - acc: 1.0000 - val_loss: 0.0704 - val_acc: 0.9818\n",
      "Epoch 36/100\n",
      "48/48 [==============================] - 2s 43ms/step - loss: 2.8457e-04 - acc: 1.0000 - val_loss: 0.0708 - val_acc: 0.9818\n",
      "Epoch 37/100\n",
      "48/48 [==============================] - 2s 43ms/step - loss: 2.5101e-04 - acc: 1.0000 - val_loss: 0.0714 - val_acc: 0.9818\n",
      "Epoch 38/100\n",
      "48/48 [==============================] - 2s 43ms/step - loss: 2.0649e-04 - acc: 1.0000 - val_loss: 0.0732 - val_acc: 0.9818\n",
      "Epoch 39/100\n",
      "48/48 [==============================] - 2s 43ms/step - loss: 1.8820e-04 - acc: 1.0000 - val_loss: 0.0745 - val_acc: 0.9818\n",
      "Epoch 40/100\n",
      "48/48 [==============================] - 2s 43ms/step - loss: 1.6816e-04 - acc: 1.0000 - val_loss: 0.0754 - val_acc: 0.9818\n",
      "Epoch 41/100\n",
      "48/48 [==============================] - 2s 45ms/step - loss: 1.5493e-04 - acc: 1.0000 - val_loss: 0.0755 - val_acc: 0.9818\n",
      "Epoch 42/100\n",
      "48/48 [==============================] - 2s 43ms/step - loss: 1.3777e-04 - acc: 1.0000 - val_loss: 0.0759 - val_acc: 0.9818\n",
      "Epoch 43/100\n",
      "48/48 [==============================] - 2s 43ms/step - loss: 1.1872e-04 - acc: 1.0000 - val_loss: 0.0771 - val_acc: 0.9818\n",
      "Epoch 44/100\n",
      "48/48 [==============================] - 2s 44ms/step - loss: 1.0912e-04 - acc: 1.0000 - val_loss: 0.0769 - val_acc: 0.9818\n",
      "Epoch 45/100\n",
      "48/48 [==============================] - 2s 43ms/step - loss: 9.8239e-05 - acc: 1.0000 - val_loss: 0.0778 - val_acc: 0.9818\n",
      "Epoch 46/100\n",
      "48/48 [==============================] - 2s 44ms/step - loss: 9.1531e-05 - acc: 1.0000 - val_loss: 0.0787 - val_acc: 0.9844\n",
      "Epoch 47/100\n",
      "48/48 [==============================] - 2s 44ms/step - loss: 8.5126e-05 - acc: 1.0000 - val_loss: 0.0796 - val_acc: 0.9818\n",
      "Epoch 48/100\n",
      "48/48 [==============================] - 2s 43ms/step - loss: 7.7772e-05 - acc: 1.0000 - val_loss: 0.0800 - val_acc: 0.9818\n",
      "Epoch 49/100\n",
      "48/48 [==============================] - 2s 43ms/step - loss: 7.3471e-05 - acc: 1.0000 - val_loss: 0.0809 - val_acc: 0.9818\n",
      "Epoch 50/100\n",
      "48/48 [==============================] - 2s 42ms/step - loss: 6.8344e-05 - acc: 1.0000 - val_loss: 0.0817 - val_acc: 0.9818\n",
      "Epoch 51/100\n",
      "48/48 [==============================] - 2s 43ms/step - loss: 6.3259e-05 - acc: 1.0000 - val_loss: 0.0816 - val_acc: 0.9818\n",
      "Epoch 52/100\n",
      "48/48 [==============================] - 2s 43ms/step - loss: 5.8242e-05 - acc: 1.0000 - val_loss: 0.0831 - val_acc: 0.9818\n"
     ]
    }
   ],
   "source": [
    "history =  model.fit(X_train, y_train_hot, epochs = 100,batch_size = 32, validation_data = ((X_test), y_test_hot),callbacks=[EarlyStopping(monitor = 'val_loss', min_delta = 0, patience = 30, mode = 'auto')])"
   ]
  },
  {
   "cell_type": "markdown",
   "id": "3eacf772",
   "metadata": {},
   "source": [
    "# Test"
   ]
  },
  {
   "cell_type": "code",
   "execution_count": 392,
   "id": "a49e8c3a",
   "metadata": {},
   "outputs": [],
   "source": [
    "d_n_test = []\n",
    "d_f1_test = []\n",
    "d_f2_test = []\n",
    "\n",
    "\n",
    "\n",
    "for i in range(5,9):\n",
    "    scaler_ = MinMaxScaler()\n",
    "    scaler_.fit(data_n[i])\n",
    "    data_n[i] = scaler_.transform(data_n[i])\n",
    "    for j in range(len(data_n[i])//300):\n",
    "        d_n_test.append(data_n[i][300*j:300*(j+1),:])\n",
    "\n",
    "for i in range(5,9):\n",
    "    scaler_ = MinMaxScaler()\n",
    "    scaler_.fit(data_f1[i])\n",
    "    data_f1[i] = scaler_.transform(data_f1[i])\n",
    "    for j in range(len(data_f1[i])//300):\n",
    "        d_f1_test.append(data_f1[i][300*j:300*(j+1),:])\n",
    "        \n",
    "for i in range(5,9):\n",
    "    scaler_ = MinMaxScaler()\n",
    "    scaler_.fit(data_f2[i])\n",
    "    data_f2[i] = scaler_.transform(data_f2[i])\n",
    "    for j in range(len(data_f2[i])//300):\n",
    "        d_f2_test.append(data_f2[i][300*j:300*(j+1),:])\n"
   ]
  },
  {
   "cell_type": "code",
   "execution_count": 393,
   "id": "e3a8ebd2",
   "metadata": {},
   "outputs": [],
   "source": [
    "label_n_test = [0 for i in range(len(d_n_test))]\n",
    "label_f1_test = [1 for i in range(len(d_f1_test))]\n",
    "label_f2_test = [2 for i in range(len(d_f2_test))]\n"
   ]
  },
  {
   "cell_type": "code",
   "execution_count": 394,
   "id": "f6adc9ee",
   "metadata": {},
   "outputs": [],
   "source": [
    "d_n_test.extend(d_f1_test)\n",
    "label_n_test.extend(label_f1_test)\n",
    "\n",
    "d_n_test.extend(d_f2_test)\n",
    "label_n_test.extend(label_f2_test)"
   ]
  },
  {
   "cell_type": "code",
   "execution_count": 395,
   "id": "d7e66b05",
   "metadata": {},
   "outputs": [],
   "source": [
    "X_train, X_test, y_train, y_test = train_test_split(d_n_test,label_n_test,test_size=0.01, shuffle=True, stratify=label_n_test, random_state=42)\n"
   ]
  },
  {
   "cell_type": "code",
   "execution_count": 396,
   "id": "735043f6",
   "metadata": {},
   "outputs": [],
   "source": [
    "for i in range(len(X_train)):\n",
    "    X_train[i] = np.array(X_train[i])\n",
    "    \n",
    "for i in range(len(X_test)):\n",
    "    X_test[i] = np.array(X_test[i])\n",
    "    \n",
    "X_test = np.array(X_test)\n",
    "X_train = np.array(X_train)\n",
    "y_test = np.array(y_test)\n",
    "y_train = np.array(y_train)\n",
    "\n",
    "X_test = X_test.reshape(len(X_test),300,3,1)\n",
    "X_train = X_train.reshape(len(X_train),300,3,1)\n"
   ]
  },
  {
   "cell_type": "code",
   "execution_count": 397,
   "id": "ee0eca58",
   "metadata": {},
   "outputs": [],
   "source": [
    "y_train_hot = np_utils.to_categorical(y_train, 3)\n",
    "y_test_hot= np_utils.to_categorical(y_test, 3)"
   ]
  },
  {
   "cell_type": "code",
   "execution_count": 399,
   "id": "73894fec",
   "metadata": {},
   "outputs": [
    {
     "data": {
      "text/plain": [
       "array([[3.8146069e-07, 9.9977380e-01, 2.2586010e-04],\n",
       "       [2.9617557e-03, 9.9703825e-01, 3.4045194e-10],\n",
       "       [1.5026442e-08, 1.0000000e+00, 1.0921709e-11],\n",
       "       ...,\n",
       "       [9.9999881e-01, 1.1485681e-06, 2.5665754e-11],\n",
       "       [5.7302415e-08, 9.9999988e-01, 1.7228500e-07],\n",
       "       [9.9863833e-01, 1.3616360e-03, 2.4367586e-10]], dtype=float32)"
      ]
     },
     "execution_count": 399,
     "metadata": {},
     "output_type": "execute_result"
    }
   ],
   "source": [
    "model.predict(X_train)"
   ]
  },
  {
   "cell_type": "code",
   "execution_count": 398,
   "id": "8847c045",
   "metadata": {
    "scrolled": false
   },
   "outputs": [
    {
     "name": "stdout",
     "output_type": "stream",
     "text": [
      "54/54 [==============================] - 1s 7ms/step - loss: 5.9684 - acc: 0.5125\n",
      "Test accuracy:  0.5125364661216736\n"
     ]
    }
   ],
   "source": [
    "results = model.evaluate(X_train,  y_train_hot)\n",
    "print('Test accuracy: ', results[1])"
   ]
  },
  {
   "cell_type": "code",
   "execution_count": null,
   "id": "cdf0a851",
   "metadata": {},
   "outputs": [],
   "source": []
  }
 ],
 "metadata": {
  "kernelspec": {
   "display_name": "Python 3 (ipykernel)",
   "language": "python",
   "name": "python3"
  },
  "language_info": {
   "codemirror_mode": {
    "name": "ipython",
    "version": 3
   },
   "file_extension": ".py",
   "mimetype": "text/x-python",
   "name": "python",
   "nbconvert_exporter": "python",
   "pygments_lexer": "ipython3",
   "version": "3.9.12"
  }
 },
 "nbformat": 4,
 "nbformat_minor": 5
}
